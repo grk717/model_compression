{
  "nbformat": 4,
  "nbformat_minor": 0,
  "metadata": {
    "colab": {
      "provenance": []
    },
    "kernelspec": {
      "name": "python3",
      "display_name": "Python 3"
    },
    "language_info": {
      "name": "python"
    }
  },
  "cells": [
    {
      "cell_type": "markdown",
      "metadata": {
        "id": "artificial-discretion"
      },
      "source": [
        "# Working with Open Model Zoo Models"
      ]
    },
    {
      "cell_type": "code",
      "execution_count": 3,
      "metadata": {
        "id": "57288459",
        "colab": {
          "base_uri": "https://localhost:8080/"
        },
        "outputId": "7dc9d018-dd19-48f4-dadc-e35cee203b67"
      },
      "outputs": [
        {
          "output_type": "stream",
          "name": "stdout",
          "text": [
            "\u001b[?25l     \u001b[90m━━━━━━━━━━━━━━━━━━━━━━━━━━━━━━━━━━━━━━━━\u001b[0m \u001b[32m0.0/5.8 MB\u001b[0m \u001b[31m?\u001b[0m eta \u001b[36m-:--:--\u001b[0m\r\u001b[2K     \u001b[91m╸\u001b[0m\u001b[90m━━━━━━━━━━━━━━━━━━━━━━━━━━━━━━━━━━━━━━━\u001b[0m \u001b[32m0.1/5.8 MB\u001b[0m \u001b[31m3.1 MB/s\u001b[0m eta \u001b[36m0:00:02\u001b[0m\r\u001b[2K     \u001b[91m━━━━━\u001b[0m\u001b[91m╸\u001b[0m\u001b[90m━━━━━━━━━━━━━━━━━━━━━━━━━━━━━━━━━━\u001b[0m \u001b[32m0.8/5.8 MB\u001b[0m \u001b[31m12.3 MB/s\u001b[0m eta \u001b[36m0:00:01\u001b[0m\r\u001b[2K     \u001b[91m━━━━━━━━━━━━━━━━━━━━━━━━━━━━━━━━━━━━━━━\u001b[0m\u001b[91m╸\u001b[0m \u001b[32m5.8/5.8 MB\u001b[0m \u001b[31m54.3 MB/s\u001b[0m eta \u001b[36m0:00:01\u001b[0m\r\u001b[2K     \u001b[91m━━━━━━━━━━━━━━━━━━━━━━━━━━━━━━━━━━━━━━━\u001b[0m\u001b[91m╸\u001b[0m \u001b[32m5.8/5.8 MB\u001b[0m \u001b[31m54.3 MB/s\u001b[0m eta \u001b[36m0:00:01\u001b[0m\r\u001b[2K     \u001b[90m━━━━━━━━━━━━━━━━━━━━━━━━━━━━━━━━━━━━━━━━\u001b[0m \u001b[32m5.8/5.8 MB\u001b[0m \u001b[31m39.8 MB/s\u001b[0m eta \u001b[36m0:00:00\u001b[0m\n",
            "\u001b[?25h  Preparing metadata (setup.py) ... \u001b[?25l\u001b[?25hdone\n",
            "\u001b[2K     \u001b[90m━━━━━━━━━━━━━━━━━━━━━━━━━━━━━━━━━━━━━━━━\u001b[0m \u001b[32m34.4/34.4 MB\u001b[0m \u001b[31m40.7 MB/s\u001b[0m eta \u001b[36m0:00:00\u001b[0m\n",
            "\u001b[?25h  Building wheel for jstyleson (setup.py) ... \u001b[?25l\u001b[?25hdone\n"
          ]
        }
      ],
      "source": [
        "# Install openvino package\n",
        "%pip install -q \"openvino-dev>=2023.1.0\""
      ]
    },
    {
      "cell_type": "markdown",
      "metadata": {
        "tags": [
          "hide"
        ],
        "id": "fec90f61-08f3-4417-8a6f-ec61c9e5955b"
      },
      "source": [
        "## Preparation [$\\Uparrow$](#Table-of-content:)\n",
        "\n",
        "### Model Name [$\\Uparrow$](#Table-of-content:)\n",
        "\n",
        "Set `model_name` to the name of the Open Model Zoo model to use in this notebook. Refer to the list of [public](https://github.com/openvinotoolkit/open_model_zoo/blob/master/models/public/index.md) and [Intel](https://github.com/openvinotoolkit/open_model_zoo/blob/master/models/intel/index.md) pre-trained models for a full list of models that can be used. Set `model_name` to the model you want to use."
      ]
    },
    {
      "cell_type": "code",
      "execution_count": 4,
      "metadata": {
        "id": "21d6d2be-05a8-4c52-9ad9-af892a76db1f"
      },
      "outputs": [],
      "source": [
        "# model_name = \"resnet-50-pytorch\"\n",
        "model_name = \"mobilenet-v2-pytorch\""
      ]
    },
    {
      "cell_type": "markdown",
      "metadata": {
        "tags": [
          "hide"
        ],
        "id": "f0206a22-dc33-4666-ab2b-86386b97caca"
      },
      "source": [
        "### Imports [$\\Uparrow$](#Table-of-content:)\n"
      ]
    },
    {
      "cell_type": "code",
      "execution_count": 5,
      "metadata": {
        "id": "impressed-uncertainty"
      },
      "outputs": [],
      "source": [
        "import json\n",
        "from pathlib import Path\n",
        "\n",
        "import openvino as ov\n",
        "from IPython.display import Markdown, display\n",
        "\n",
        "# Fetch `notebook_utils` module\n",
        "import urllib.request\n",
        "urllib.request.urlretrieve(\n",
        "    url='https://raw.githubusercontent.com/openvinotoolkit/openvino_notebooks/main/notebooks/utils/notebook_utils.py',\n",
        "    filename='notebook_utils.py'\n",
        ")\n",
        "from notebook_utils import DeviceNotFoundAlert, NotebookAlert"
      ]
    },
    {
      "cell_type": "markdown",
      "metadata": {
        "tags": [
          "hide"
        ],
        "id": "parental-assets"
      },
      "source": [
        "### Settings and Configuration [$\\Uparrow$](#Table-of-content:)\n",
        "\n",
        "Set the file and directory paths. By default, this notebook downloads models from Open Model Zoo to the `open_model_zoo_models` directory in your `$HOME` directory. On Windows, the $HOME directory is usually `c:\\users\\username`, on Linux `/home/username`. To change the folder, change `base_model_dir` in the cell below.\n",
        "\n",
        "The following settings can be changed:\n",
        "\n",
        "* `base_model_dir`: Models will be downloaded into the `intel` and `public` folders in this directory.\n",
        "* `omz_cache_dir`: Cache folder for Open Model Zoo. Specifying a cache directory is not required for Model Downloader and Model Converter, but it speeds up subsequent downloads.\n",
        "* `precision`: If specified, only models with this precision will be downloaded and converted."
      ]
    },
    {
      "cell_type": "code",
      "execution_count": 6,
      "metadata": {
        "id": "korean-agency",
        "outputId": "b29ffb6c-3f8c-46ef-e4f3-23301cb46cfd",
        "colab": {
          "base_uri": "https://localhost:8080/"
        }
      },
      "outputs": [
        {
          "output_type": "stream",
          "name": "stdout",
          "text": [
            "base_model_dir: model, omz_cache_dir: cache, gpu_availble: False\n"
          ]
        }
      ],
      "source": [
        "base_model_dir = Path(\"model\")\n",
        "omz_cache_dir = Path(\"cache\")\n",
        "precision = \"FP16\"\n",
        "\n",
        "# Check if an iGPU is available on this system to use with Benchmark App.\n",
        "core = ov.Core()\n",
        "gpu_available = \"GPU\" in core.available_devices\n",
        "\n",
        "print(\n",
        "    f\"base_model_dir: {base_model_dir}, omz_cache_dir: {omz_cache_dir}, gpu_availble: {gpu_available}\"\n",
        ")"
      ]
    },
    {
      "cell_type": "markdown",
      "metadata": {
        "id": "judicial-preview"
      },
      "source": [
        "## Download a Model from Open Model Zoo [$\\Uparrow$](#Table-of-content:)\n",
        "\n"
      ]
    },
    {
      "cell_type": "markdown",
      "metadata": {
        "id": "rising-interval"
      },
      "source": [
        "Specify, display and run the Model Downloader command to download the model."
      ]
    },
    {
      "cell_type": "code",
      "execution_count": null,
      "metadata": {
        "id": "df2b0446-0c49-41cf-9f3f-dec1232249f7"
      },
      "outputs": [],
      "source": [
        "## Uncomment the next line to show help in omz_downloader which explains the command-line options.\n",
        "\n",
        "# !omz_downloader --help"
      ]
    },
    {
      "cell_type": "code",
      "execution_count": 7,
      "metadata": {
        "id": "556d0c12-15cf-492d-a1ed-41dff5090eff",
        "outputId": "d3b67dff-a8da-4523-9385-fdb5d596ddba",
        "colab": {
          "base_uri": "https://localhost:8080/",
          "height": 160
        }
      },
      "outputs": [
        {
          "output_type": "display_data",
          "data": {
            "text/plain": [
              "<IPython.core.display.Markdown object>"
            ],
            "text/markdown": "Download command: `omz_downloader --name mobilenet-v2-pytorch --output_dir model --cache_dir cache`"
          },
          "metadata": {}
        },
        {
          "output_type": "display_data",
          "data": {
            "text/plain": [
              "<IPython.core.display.Markdown object>"
            ],
            "text/markdown": "Downloading mobilenet-v2-pytorch..."
          },
          "metadata": {}
        },
        {
          "output_type": "stream",
          "name": "stdout",
          "text": [
            "################|| Downloading mobilenet-v2-pytorch ||################\n",
            "\n",
            "========== Downloading model/public/mobilenet-v2-pytorch/mobilenet_v2-b0353104.pth\n",
            "... 100%, 13879 KB, 14866 KB/s, 0 seconds passed\n",
            "\n"
          ]
        }
      ],
      "source": [
        "download_command = (\n",
        "    f\"omz_downloader --name {model_name} --output_dir {base_model_dir} --cache_dir {omz_cache_dir}\"\n",
        ")\n",
        "display(Markdown(f\"Download command: `{download_command}`\"))\n",
        "display(Markdown(f\"Downloading {model_name}...\"))\n",
        "! $download_command"
      ]
    },
    {
      "cell_type": "markdown",
      "metadata": {
        "id": "proprietary-checklist"
      },
      "source": [
        "## Convert a Model to OpenVINO IR format [$\\Uparrow$](#Table-of-content:)\n",
        "\n",
        "Specify, display and run the Model Converter command to convert the model to OpenVINO IR format. Model conversion may take a while. The output of the Model Converter command will be displayed. When the conversion is successful, the last lines of the output will include: `[ SUCCESS ] Generated IR version 11 model.` For downloaded models that are already in OpenVINO IR format, conversion will be skipped."
      ]
    },
    {
      "cell_type": "code",
      "execution_count": null,
      "metadata": {
        "id": "11fe7461-90db-4585-b55f-b3df42b01274"
      },
      "outputs": [],
      "source": [
        "## Uncomment the next line to show Help in omz_converter which explains the command-line options.\n",
        "\n",
        "# !omz_converter --help"
      ]
    },
    {
      "cell_type": "code",
      "execution_count": 8,
      "metadata": {
        "id": "engaged-academy",
        "outputId": "3f93d4b1-99d4-4518-dfab-4e38ef0fcb3b",
        "colab": {
          "base_uri": "https://localhost:8080/",
          "height": 447
        }
      },
      "outputs": [
        {
          "output_type": "display_data",
          "data": {
            "text/plain": [
              "<IPython.core.display.Markdown object>"
            ],
            "text/markdown": "Convert command: `omz_converter --name mobilenet-v2-pytorch --precisions FP16 --download_dir model --output_dir model`"
          },
          "metadata": {}
        },
        {
          "output_type": "display_data",
          "data": {
            "text/plain": [
              "<IPython.core.display.Markdown object>"
            ],
            "text/markdown": "Converting mobilenet-v2-pytorch..."
          },
          "metadata": {}
        },
        {
          "output_type": "stream",
          "name": "stdout",
          "text": [
            "========== Converting mobilenet-v2-pytorch to ONNX\n",
            "Conversion to ONNX command: /usr/bin/python3 -- /usr/local/lib/python3.10/dist-packages/openvino/model_zoo/internal_scripts/pytorch_to_onnx.py --model-name=mobilenet_v2 --weights=model/public/mobilenet-v2-pytorch/mobilenet_v2-b0353104.pth --import-module=torchvision.models --input-shape=1,3,224,224 --output-file=model/public/mobilenet-v2-pytorch/mobilenet-v2.onnx --input-names=data --output-names=prob\n",
            "\n",
            "============= Diagnostic Run torch.onnx.export version 2.0.1+cu118 =============\n",
            "verbose: False, log level: Level.ERROR\n",
            "======================= 0 NONE 0 NOTE 0 WARNING 0 ERROR ========================\n",
            "\n",
            "ONNX check passed successfully.\n",
            "\n",
            "========== Converting mobilenet-v2-pytorch to IR (FP16)\n",
            "Conversion command: /usr/bin/python3 -- /usr/local/bin/mo --framework=onnx --output_dir=model/public/mobilenet-v2-pytorch/FP16 --model_name=mobilenet-v2-pytorch --input=data '--mean_values=data[123.675,116.28,103.53]' '--scale_values=data[58.624,57.12,57.375]' --reverse_input_channels --output=prob --input_model=model/public/mobilenet-v2-pytorch/mobilenet-v2.onnx '--layout=data(NCHW)' '--input_shape=[1, 3, 224, 224]' --compress_to_fp16=True\n",
            "\n",
            "[ INFO ] Generated IR will be compressed to FP16. If you get lower accuracy, please consider disabling compression explicitly by adding argument --compress_to_fp16=False.\n",
            "Find more information about compression to FP16 at https://docs.openvino.ai/2023.0/openvino_docs_MO_DG_FP16_Compression.html\n",
            "[ INFO ] The model was converted to IR v11, the latest model format that corresponds to the source DL framework input/output format. While IR v11 is backwards compatible with OpenVINO Inference Engine API v1.0, please use API v2.0 (as of 2022.1) to take advantage of the latest improvements in IR v11.\n",
            "Find more information about API v2.0 and IR v11 at https://docs.openvino.ai/2023.0/openvino_2_0_transition_guide.html\n",
            "[ SUCCESS ] Generated IR version 11 model.\n",
            "[ SUCCESS ] XML file: /content/model/public/mobilenet-v2-pytorch/FP16/mobilenet-v2-pytorch.xml\n",
            "[ SUCCESS ] BIN file: /content/model/public/mobilenet-v2-pytorch/FP16/mobilenet-v2-pytorch.bin\n",
            "\n"
          ]
        }
      ],
      "source": [
        "convert_command = f\"omz_converter --name {model_name} --precisions {precision} --download_dir {base_model_dir} --output_dir {base_model_dir}\"\n",
        "display(Markdown(f\"Convert command: `{convert_command}`\"))\n",
        "display(Markdown(f\"Converting {model_name}...\"))\n",
        "\n",
        "! $convert_command"
      ]
    },
    {
      "cell_type": "markdown",
      "metadata": {
        "id": "aa8d655f-215d-4e3c-adcb-e8fd4a2e8ab4"
      },
      "source": [
        "## Get Model Information [$\\Uparrow$](#Table-of-content:)\n",
        "\n",
        "The Info Dumper prints the following information for Open Model Zoo models:\n",
        "\n",
        "* Model name\n",
        "* Description\n",
        "* Framework that was used to train the model\n",
        "* License URL\n",
        "* Precisions supported by the model\n",
        "* Subdirectory: the location of the downloaded model\n",
        "* Task type\n",
        "\n",
        "This information can be shown by running `omz_info_dumper --name model_name` in a terminal. The information can also be parsed and used in scripts.\n",
        "\n",
        "In the next cell, run Info Dumper and use `json` to load the information in a dictionary."
      ]
    },
    {
      "cell_type": "code",
      "execution_count": 9,
      "metadata": {
        "id": "b8247daf-d3c5-4420-b4c8-d305ac4ace5b",
        "outputId": "4a73ee16-28df-46e7-fef9-3253676434aa",
        "colab": {
          "base_uri": "https://localhost:8080/"
        }
      },
      "outputs": [
        {
          "output_type": "execute_result",
          "data": {
            "text/plain": [
              "[{'name': 'mobilenet-v2-pytorch',\n",
              "  'composite_model_name': None,\n",
              "  'description': 'MobileNet V2 is image classification model pre-trained on ImageNet dataset. This is a PyTorch* implementation of MobileNetV2 architecture as described in the paper \"Inverted Residuals and Linear Bottlenecks: Mobile Networks for Classification, Detection and Segmentation\" <https://arxiv.org/abs/1801.04381>.\\nThe model input is a blob that consists of a single image of \"1, 3, 224, 224\" in \"RGB\" order.\\nThe model output is typical object classifier for the 1000 different classifications matching with those in the ImageNet database.',\n",
              "  'framework': 'pytorch',\n",
              "  'license_url': 'https://raw.githubusercontent.com/pytorch/vision/master/LICENSE',\n",
              "  'accuracy_config': '/usr/local/lib/python3.10/dist-packages/openvino/model_zoo/models/public/mobilenet-v2-pytorch/accuracy-check.yml',\n",
              "  'model_config': '/usr/local/lib/python3.10/dist-packages/openvino/model_zoo/models/public/mobilenet-v2-pytorch/model.yml',\n",
              "  'precisions': ['FP16', 'FP32'],\n",
              "  'quantization_output_precisions': ['FP16-INT8', 'FP32-INT8'],\n",
              "  'subdirectory': 'public/mobilenet-v2-pytorch',\n",
              "  'task_type': 'classification',\n",
              "  'input_info': [{'name': 'data',\n",
              "    'shape': [1, 3, 224, 224],\n",
              "    'layout': 'NCHW'}],\n",
              "  'model_stages': []}]"
            ]
          },
          "metadata": {},
          "execution_count": 9
        }
      ],
      "source": [
        "model_info_output = %sx omz_info_dumper --name $model_name\n",
        "model_info = json.loads(model_info_output.get_nlstr())\n",
        "\n",
        "if len(model_info) > 1:\n",
        "    NotebookAlert(\n",
        "        f\"There are multiple IR files for the {model_name} model. The first model in the \"\n",
        "        \"omz_info_dumper output will be used for benchmarking. Change \"\n",
        "        \"`selected_model_info` in the cell below to select a different model from the list.\",\n",
        "        \"warning\",\n",
        "    )\n",
        "\n",
        "model_info"
      ]
    },
    {
      "cell_type": "markdown",
      "metadata": {
        "id": "7ea7e868-fd2d-4d11-9c87-7aa1f1301083"
      },
      "source": [
        "Having information of the model in a JSON file enables extraction of the path to the model directory, and building the path to the OpenVINO IR file."
      ]
    },
    {
      "cell_type": "code",
      "execution_count": 10,
      "metadata": {
        "id": "de1a319e-bbef-414c-921d-60938b4a01a8",
        "outputId": "45384bb8-fbca-47a2-b32b-ac976736064c",
        "colab": {
          "base_uri": "https://localhost:8080/"
        }
      },
      "outputs": [
        {
          "output_type": "stream",
          "name": "stdout",
          "text": [
            "model/public/mobilenet-v2-pytorch/FP16/mobilenet-v2-pytorch.xml exists: True\n"
          ]
        }
      ],
      "source": [
        "selected_model_info = model_info[0]\n",
        "model_path = (\n",
        "    base_model_dir\n",
        "    / Path(selected_model_info[\"subdirectory\"])\n",
        "    / Path(f\"{precision}/{selected_model_info['name']}.xml\")\n",
        ")\n",
        "print(model_path, \"exists:\", model_path.exists())"
      ]
    },
    {
      "cell_type": "markdown",
      "metadata": {
        "id": "54e01154-f700-479f-9111-147c95595d46"
      },
      "source": [
        "## Run Benchmark Tool [$\\Uparrow$](#Table-of-content:)\n",
        "\n",
        "By default, Benchmark Tool runs inference for 60 seconds in asynchronous mode on CPU. It returns inference speed as latency (milliseconds per image) and throughput values (frames per second)."
      ]
    },
    {
      "cell_type": "code",
      "execution_count": null,
      "metadata": {
        "id": "282452e8-24c7-49c0-bdb2-10677971c30f"
      },
      "outputs": [],
      "source": [
        "## Uncomment the next line to show Help in benchmark_app which explains the command-line options.\n",
        "# !benchmark_app --help"
      ]
    },
    {
      "cell_type": "code",
      "execution_count": 18,
      "metadata": {
        "tags": [],
        "test_replace": {
          "-t 15": "-t 3"
        },
        "id": "9812b0c8-8cd0-4840-bca3-a28171d055b7",
        "outputId": "f8d2e6ee-b591-4225-ceb1-beca6a5e763f",
        "colab": {
          "base_uri": "https://localhost:8080/",
          "height": 1000
        }
      },
      "outputs": [
        {
          "output_type": "display_data",
          "data": {
            "text/plain": [
              "<IPython.core.display.Markdown object>"
            ],
            "text/markdown": "Benchmark command: `benchmark_app -m model/public/mobilenet-v2-pytorch/FP16/mobilenet-v2-pytorch.xml -t 60`"
          },
          "metadata": {}
        },
        {
          "output_type": "display_data",
          "data": {
            "text/plain": [
              "<IPython.core.display.Markdown object>"
            ],
            "text/markdown": "Benchmarking mobilenet-v2-pytorch on CPU with async inference for 60 seconds..."
          },
          "metadata": {}
        },
        {
          "output_type": "stream",
          "name": "stdout",
          "text": [
            "[Step 1/11] Parsing and validating input arguments\n",
            "[ INFO ] Parsing input parameters\n",
            "[Step 2/11] Loading OpenVINO Runtime\n",
            "[ INFO ] OpenVINO:\n",
            "[ INFO ] Build ................................. 2023.1.0-12185-9e6b00e51cd-releases/2023/1\n",
            "[ INFO ] \n",
            "[ INFO ] Device info:\n",
            "[ INFO ] CPU\n",
            "[ INFO ] Build ................................. 2023.1.0-12185-9e6b00e51cd-releases/2023/1\n",
            "[ INFO ] \n",
            "[ INFO ] \n",
            "[Step 3/11] Setting device configuration\n",
            "[ WARNING ] Performance hint was not explicitly specified in command line. Device(CPU) performance hint will be set to PerformanceMode.THROUGHPUT.\n",
            "[Step 4/11] Reading model files\n",
            "[ INFO ] Loading model files\n",
            "[ INFO ] Read model took 20.10 ms\n",
            "[ INFO ] Original model I/O parameters:\n",
            "[ INFO ] Model inputs:\n",
            "[ INFO ]     data (node: data) : f32 / [N,C,H,W] / [1,3,224,224]\n",
            "[ INFO ] Model outputs:\n",
            "[ INFO ]     prob (node: prob) : f32 / [...] / [1,1000]\n",
            "[Step 5/11] Resizing model to match image sizes and given batch\n",
            "[ INFO ] Model batch size: 1\n",
            "[Step 6/11] Configuring input of the model\n",
            "[ INFO ] Model inputs:\n",
            "[ INFO ]     data (node: data) : u8 / [N,C,H,W] / [1,3,224,224]\n",
            "[ INFO ] Model outputs:\n",
            "[ INFO ]     prob (node: prob) : f32 / [...] / [1,1000]\n",
            "[Step 7/11] Loading the model to the device\n",
            "[ INFO ] Compile model took 180.29 ms\n",
            "[Step 8/11] Querying optimal runtime parameters\n",
            "[ INFO ] Model:\n",
            "[ INFO ]   NETWORK_NAME: torch_jit\n",
            "[ INFO ]   OPTIMAL_NUMBER_OF_INFER_REQUESTS: 2\n",
            "[ INFO ]   NUM_STREAMS: 2\n",
            "[ INFO ]   AFFINITY: Affinity.CORE\n",
            "[ INFO ]   INFERENCE_NUM_THREADS: 2\n",
            "[ INFO ]   PERF_COUNT: False\n",
            "[ INFO ]   INFERENCE_PRECISION_HINT: <Type: 'float32'>\n",
            "[ INFO ]   PERFORMANCE_HINT: PerformanceMode.THROUGHPUT\n",
            "[ INFO ]   EXECUTION_MODE_HINT: ExecutionMode.PERFORMANCE\n",
            "[ INFO ]   PERFORMANCE_HINT_NUM_REQUESTS: 0\n",
            "[ INFO ]   ENABLE_CPU_PINNING: True\n",
            "[ INFO ]   SCHEDULING_CORE_TYPE: SchedulingCoreType.ANY_CORE\n",
            "[ INFO ]   ENABLE_HYPER_THREADING: True\n",
            "[ INFO ]   EXECUTION_DEVICES: ['CPU']\n",
            "[ INFO ]   CPU_DENORMALS_OPTIMIZATION: False\n",
            "[ INFO ]   CPU_SPARSE_WEIGHTS_DECOMPRESSION_RATE: 1.0\n",
            "[Step 9/11] Creating infer requests and preparing input tensors\n",
            "[ WARNING ] No input files were given for input 'data'!. This input will be filled with random values!\n",
            "[ INFO ] Fill input 'data' with random values \n",
            "[Step 10/11] Measuring performance (Start inference asynchronously, 2 inference requests, limits: 60000 ms duration)\n",
            "[ INFO ] Benchmarking in inference only mode (inputs filling are not included in measurement loop).\n",
            "[ INFO ] First inference took 16.53 ms\n",
            "[Step 11/11] Dumping statistics report\n",
            "[ INFO ] Execution Devices:['CPU']\n",
            "[ INFO ] Count:            4280 iterations\n",
            "[ INFO ] Duration:         60047.02 ms\n",
            "[ INFO ] Latency:\n",
            "[ INFO ]    Median:        22.24 ms\n",
            "[ INFO ]    Average:       27.85 ms\n",
            "[ INFO ]    Min:           17.70 ms\n",
            "[ INFO ]    Max:           124.52 ms\n",
            "[ INFO ] Throughput:   71.28 FPS\n"
          ]
        }
      ],
      "source": [
        "benchmark_command = f\"benchmark_app -m {model_path} -t 60\"\n",
        "display(Markdown(f\"Benchmark command: `{benchmark_command}`\"))\n",
        "display(Markdown(f\"Benchmarking {model_name} on CPU with async inference for 60 seconds...\"))\n",
        "\n",
        "! $benchmark_command"
      ]
    }
  ]
}